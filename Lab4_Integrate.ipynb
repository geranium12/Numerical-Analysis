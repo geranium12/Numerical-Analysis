{
 "cells": [
  {
   "cell_type": "markdown",
   "metadata": {},
   "source": [
    "# Приближенное вычисление интегралов"
   ]
  },
  {
   "cell_type": "markdown",
   "metadata": {},
   "source": [
    "### Герасимчик Анна. 2 курс 1 группа"
   ]
  },
  {
   "cell_type": "markdown",
   "metadata": {},
   "source": [
    "## 1. Постановка задачи:\n",
    "\n",
    "По результатам лабораторной работы оформляется отчет. Он должен содержать:\n",
    "\n",
    "    - титульный лист;  \n",
    "    - постановку задачи;  \n",
    "    - краткие теоретические сведения;  \n",
    "    - листинг программы с комментариями;  \n",
    "    - результаты;  \n",
    "    - выводы."
   ]
  },
  {
   "cell_type": "markdown",
   "metadata": {},
   "source": [
    "## 2. Краткие теоретические сведения"
   ]
  },
  {
   "cell_type": "markdown",
   "metadata": {},
   "source": [
    "## 3. Листинг программы"
   ]
  },
  {
   "cell_type": "code",
   "execution_count": 1,
   "metadata": {},
   "outputs": [],
   "source": [
    "A = 1\n",
    "B = 2\n",
    "EPS = 0.0001"
   ]
  },
  {
   "cell_type": "code",
   "execution_count": 2,
   "metadata": {},
   "outputs": [],
   "source": [
    "import math\n",
    "import numpy as np\n",
    "import matplotlib.pyplot as plt\n",
    "\n",
    "def fx(x):\n",
    "    return math.exp(x) / (1 + x * x)"
   ]
  },
  {
   "cell_type": "code",
   "execution_count": 3,
   "metadata": {},
   "outputs": [],
   "source": [
    "def LeftRiemannSum(n):\n",
    "    result = 0\n",
    "    h = (B - A) / n\n",
    "    x = np.arange(A, B, h);\n",
    "    for i in range(n):\n",
    "        result += fx(x[i])\n",
    "    result *= h\n",
    "    return result"
   ]
  },
  {
   "cell_type": "code",
   "execution_count": 4,
   "metadata": {},
   "outputs": [],
   "source": [
    "def MidpointRiemannSum(n):\n",
    "    result = 0\n",
    "    h = (B - A) / n\n",
    "    x = np.arange(A + h / 2, B, h)\n",
    "    for i in range(n):\n",
    "        result += fx(x[i])\n",
    "    result *= h\n",
    "    return result"
   ]
  },
  {
   "cell_type": "code",
   "execution_count": 5,
   "metadata": {},
   "outputs": [],
   "source": [
    "def SimpsonRule(n):\n",
    "    if (n % 2 == 1):\n",
    "        n += 1\n",
    "    \n",
    "    h = (B - A) / n\n",
    "    \n",
    "    x_even = np.arange(A + 2 * h, B, 2 * h)\n",
    "    x_odd = np.arange(A + 2 * h + h, B, 2 * h)\n",
    "\n",
    "    result = fx(A) + 4 * fx(A + h) + fx(B)\n",
    "    n = int(n / 2) - 1\n",
    "    for i in range(n):\n",
    "        result += 2 * fx(x_even[i])\n",
    "        result += 4 * fx(x_odd[i])\n",
    "        \n",
    "    result *= h / 3\n",
    "    return result"
   ]
  },
  {
   "cell_type": "code",
   "execution_count": 6,
   "metadata": {},
   "outputs": [],
   "source": [
    "def RungeRule(func, value1, value2):\n",
    "    if (func == LeftRiemannSum or func == MidpointRiemannSum):\n",
    "        return abs(value1 - value2) / 3\n",
    "    if (func == SimpsonRule):\n",
    "        return abs(value1 - value2) / 15   "
   ]
  },
  {
   "cell_type": "code",
   "execution_count": 7,
   "metadata": {},
   "outputs": [],
   "source": [
    "def solution(func):\n",
    "    n = 4\n",
    "    error = 1\n",
    "    while (error >= EPS):\n",
    "        value1 = func(n)\n",
    "        value2 = func(2 * n)\n",
    "        error = RungeRule(func, value1, value2)\n",
    "        h = (B - A) / n\n",
    "        h2 = (B - A) / (2 * n)\n",
    "        print(\"h = {:.6f}\".format(h), \"h / 2 = {:.6f}\".format(h2), \n",
    "              \"value1 = {:.6f}\".format(value1), \"value2 = {:.6f}\".format(value2), \n",
    "              \"error = {:.6f}\".format(error))\n",
    "        n *= 2"
   ]
  },
  {
   "cell_type": "code",
   "execution_count": 8,
   "metadata": {},
   "outputs": [
    {
     "name": "stdout",
     "output_type": "stream",
     "text": [
      "h = 0.250000 h / 2 = 0.125000 value1 = 1.379181 value2 = 1.385437 error = 0.002085\n",
      "h = 0.125000 h / 2 = 0.062500 value1 = 1.385437 value2 = 1.388857 error = 0.001140\n",
      "h = 0.062500 h / 2 = 0.031250 value1 = 1.388857 value2 = 1.390639 error = 0.000594\n",
      "h = 0.031250 h / 2 = 0.015625 value1 = 1.390639 value2 = 1.391548 error = 0.000303\n",
      "h = 0.015625 h / 2 = 0.007812 value1 = 1.391548 value2 = 1.392007 error = 0.000153\n",
      "h = 0.007812 h / 2 = 0.003906 value1 = 1.392007 value2 = 1.392238 error = 0.000077\n"
     ]
    }
   ],
   "source": [
    "solution(LeftRiemannSum)"
   ]
  },
  {
   "cell_type": "code",
   "execution_count": 9,
   "metadata": {},
   "outputs": [
    {
     "name": "stdout",
     "output_type": "stream",
     "text": [
      "h = 0.250000 h / 2 = 0.125000 value1 = 1.391694 value2 = 1.392276 error = 0.000194\n",
      "h = 0.125000 h / 2 = 0.062500 value1 = 1.392276 value2 = 1.392421 error = 0.000048\n"
     ]
    }
   ],
   "source": [
    "solution(MidpointRiemannSum)"
   ]
  },
  {
   "cell_type": "code",
   "execution_count": 10,
   "metadata": {},
   "outputs": [
    {
     "name": "stdout",
     "output_type": "stream",
     "text": [
      "h = 0.250000 h / 2 = 0.125000 value1 = 1.392444 value2 = 1.392467 error = 0.000002\n"
     ]
    }
   ],
   "source": [
    "solution(SimpsonRule)"
   ]
  },
  {
   "cell_type": "code",
   "execution_count": 11,
   "metadata": {},
   "outputs": [],
   "source": [
    "def Lezhandr(x, n):\n",
    "    l = np.zeros(n)\n",
    "    l[0] = 0\n",
    "    l[1] = x\n",
    "    for i in range(n - 2):\n",
    "        l[i + 2] = (2 * n + 1) / (n + 1) * x * l[i + 1] - n / (n + 1) * l[i]\n",
    "    return l"
   ]
  },
  {
   "cell_type": "code",
   "execution_count": 12,
   "metadata": {},
   "outputs": [],
   "source": [
    "a = np.array([[1, 1], [5 / 9, 8 / 9, 5 / 9], [0.3478, 0.6521, 0.6521, 0.3478]])\n",
    "l = np.array([[-0.5773, 0.5773], [-0.7746, 0, 0.7746], [-0.8611, -0.3340, 0.3340, 0.8611]])"
   ]
  },
  {
   "cell_type": "code",
   "execution_count": 13,
   "metadata": {},
   "outputs": [],
   "source": [
    "def GaussianQuadrature(n):\n",
    "    if (n != 2 and n != 3 and n != 4):\n",
    "        return 0\n",
    "    result = 0.\n",
    "    for i in range(n):\n",
    "        t = 0.5 * ((B - A) * l[n - 2][i] + B + A)\n",
    "        result += a[n - 2][i] * fx(t)\n",
    "    result *= (B - A) / 2.\n",
    "    return result"
   ]
  },
  {
   "cell_type": "code",
   "execution_count": 14,
   "metadata": {},
   "outputs": [
    {
     "name": "stdout",
     "output_type": "stream",
     "text": [
      "i = 2 result = 1.392677\n",
      "i = 3 result = 1.392474\n",
      "i = 4 result = 1.392220\n"
     ]
    }
   ],
   "source": [
    "for i in range(2, 5):\n",
    "    print(\"i =\", i, \"result = {:.6f}\".format(GaussianQuadrature(i)))"
   ]
  },
  {
   "cell_type": "code",
   "execution_count": null,
   "metadata": {},
   "outputs": [],
   "source": []
  }
 ],
 "metadata": {
  "kernelspec": {
   "display_name": "Python 3",
   "language": "python",
   "name": "python3"
  },
  "language_info": {
   "codemirror_mode": {
    "name": "ipython",
    "version": 3
   },
   "file_extension": ".py",
   "mimetype": "text/x-python",
   "name": "python",
   "nbconvert_exporter": "python",
   "pygments_lexer": "ipython3",
   "version": "3.7.6"
  }
 },
 "nbformat": 4,
 "nbformat_minor": 4
}
